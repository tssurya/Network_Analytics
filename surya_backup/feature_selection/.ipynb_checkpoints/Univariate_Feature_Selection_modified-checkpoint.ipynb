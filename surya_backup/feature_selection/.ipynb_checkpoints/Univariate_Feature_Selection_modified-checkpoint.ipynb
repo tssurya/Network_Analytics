{
 "cells": [
  {
   "cell_type": "code",
   "execution_count": null,
   "metadata": {
    "collapsed": false
   },
   "outputs": [],
   "source": [
    "#Univariate feature selection\n",
    "# Feature Extraction with Univariate Statistical Tests \n",
    "import numpy\n",
    "import pandas \n",
    "import time\n",
    "from sklearn.feature_selection import SelectKBest\n",
    "from sklearn.feature_selection import f_regression\n",
    "from numpy import genfromtxt, savetxt\n",
    "from sklearn.preprocessing import Imputer\n",
    "from sklearn.metrics import mean_absolute_error\n",
    "\n",
    "#specify target value parameter\n",
    "target = 'YWrites50th'\n",
    "#target = ''\n",
    "#target = ''\n",
    "\n",
    "#read data from files\n",
    "X = pandas.read_csv('X.csv')\n",
    "Y = pandas.read_csv('Y.csv')\n",
    "\n",
    "X_columns = X.columns.values\n",
    "Y_columns = Y.columns.values\n",
    "\n",
    "#to print all the attributes\n",
    "print(\"columns in X are\")\n",
    "print(X_columns)\n",
    "print(\"\\n\")\n",
    "print(\"columns in Y are\")\n",
    "print(Y_columns)\n",
    "print(\"\\n\")\n",
    "\n",
    "Y = Y[target]\n",
    "\n",
    "# feature extraction\n",
    "start=time.time()\n",
    "test = SelectKBest(score_func=f_regression, k=10)\n",
    "fit = test.fit(X, Y)\n",
    "end=time.time()\n",
    "\n",
    "#printing preprocessing time\n",
    "print(\"preprocessing time is\")\n",
    "print(end-start)\n",
    "print(\"\\n\")\n",
    "\n",
    "#listing selected features\n",
    "print(\"the selected features are\")\n",
    "answer = fit.get_support(indices= True)\n",
    "print(X_columns[answer])\n",
    "print(\"\\n\")\n",
    "\n",
    "# summarize scores \n",
    "print(\"the scores for all the features are \")\n",
    "numpy.set_printoptions(precision=3)\n",
    "print(fit.scores_)\n",
    "print(\"\\n\")\n",
    "\n",
    "# summarize selected features\n",
    "features = fit.transform(X)\n",
    "print(\"the values of the selected features for all samples are\")\n",
    "print(features)\n",
    "print(\"\\n\")\n"
   ]
  },
  {
   "cell_type": "code",
   "execution_count": null,
   "metadata": {
    "collapsed": true
   },
   "outputs": [],
   "source": []
  }
 ],
 "metadata": {
  "anaconda-cloud": {},
  "kernelspec": {
   "display_name": "Python [conda root]",
   "language": "python",
   "name": "conda-root-py"
  },
  "language_info": {
   "codemirror_mode": {
    "name": "ipython",
    "version": 3
   },
   "file_extension": ".py",
   "mimetype": "text/x-python",
   "name": "python",
   "nbconvert_exporter": "python",
   "pygments_lexer": "ipython3",
   "version": "3.5.2"
  }
 },
 "nbformat": 4,
 "nbformat_minor": 1
}
